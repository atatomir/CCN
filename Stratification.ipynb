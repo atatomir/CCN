{
 "cells": [
  {
   "cell_type": "code",
   "execution_count": 1,
   "metadata": {},
   "outputs": [
    {
     "name": "stdout",
     "output_type": "stream",
     "text": [
      "cpu\n"
     ]
    }
   ],
   "source": [
    "import torch\n",
    "from torch import nn\n",
    "from ccn import Constraint, ConstraintsGroup, Clause, ClausesGroup\n",
    "\n",
    "device = torch.device('cuda' if torch.cuda.is_available() else 'cpu')\n",
    "print(device)"
   ]
  },
  {
   "cell_type": "code",
   "execution_count": 2,
   "metadata": {},
   "outputs": [
    {
     "name": "stdout",
     "output_type": "stream",
     "text": [
      "243\n",
      "243\n",
      "36\n",
      "[1, 2, 3, 4, 5, 6, 7, 8, 10, 9, 10, 11, 6, 6, 8, 8, 7, 7, 8, 8, 6, 6, 7, 16, 7, 12, 20, 12, 2, 2, 3, 2, 2, 2, 4, 12]\n",
      "249\n",
      "n1 :- 0\n"
     ]
    }
   ],
   "source": [
    "constraints = ConstraintsGroup('constraints/full')\n",
    "print(len(constraints))\n",
    "\n",
    "clauses = ClausesGroup.from_constraints_group(constraints)\n",
    "print(len(clauses))\n",
    "\n",
    "constraints = clauses.stratify(range(41))\n",
    "print(len(constraints))\n",
    "\n",
    "lens = [len(group) for group in constraints]\n",
    "print(lens)\n",
    "print(sum(lens))\n",
    "print(constraints[0])"
   ]
  },
  {
   "cell_type": "code",
   "execution_count": null,
   "metadata": {},
   "outputs": [],
   "source": []
  }
 ],
 "metadata": {
  "interpreter": {
   "hash": "31f2aee4e71d21fbe5cf8b01ff0e069b9275f58929596ceb00d14d90e3e16cd6"
  },
  "kernelspec": {
   "display_name": "Python 3.8.10 64-bit",
   "language": "python",
   "name": "python3"
  },
  "language_info": {
   "codemirror_mode": {
    "name": "ipython",
    "version": 3
   },
   "file_extension": ".py",
   "mimetype": "text/x-python",
   "name": "python",
   "nbconvert_exporter": "python",
   "pygments_lexer": "ipython3",
   "version": "3.8.10"
  },
  "orig_nbformat": 4
 },
 "nbformat": 4,
 "nbformat_minor": 2
}
