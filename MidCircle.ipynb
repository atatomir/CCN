{
 "cells": [
  {
   "cell_type": "code",
   "execution_count": 1,
   "metadata": {},
   "outputs": [
    {
     "name": "stdout",
     "output_type": "stream",
     "text": [
      "cpu\n"
     ]
    }
   ],
   "source": [
    "import torch\n",
    "from torch import nn\n",
    "import matplotlib.pyplot as plt\n",
    "\n",
    "from ccn import Constraint, ConstraintsGroup\n",
    "from shapes import HalfPlane, Circle\n",
    "from experiment import Experiment\n",
    "\n",
    "device = torch.device('cuda' if torch.cuda.is_available() else 'cpu')\n",
    "print(device)"
   ]
  },
  {
   "cell_type": "markdown",
   "metadata": {},
   "source": [
    "### Define the shapes"
   ]
  },
  {
   "cell_type": "code",
   "execution_count": 2,
   "metadata": {},
   "outputs": [
    {
     "data": {
      "image/png": "[encoded data removed]",
      "text/plain": [
       "<Figure size 432x288 with 3 Axes>"
      ]
     },
     "metadata": {
      "needs_background": "light"
     },
     "output_type": "display_data"
    }
   ],
   "source": [
    "h1 = HalfPlane(1, 0, -0.5)\n",
    "h2 = -h1 \n",
    "circle = Circle(0.5, 0.5, 0.20)\n",
    "shapes = [h1 & -circle, circle, h2 & -circle]\n",
    "\n",
    "fig, ax = plt.subplots(1, len(shapes))\n",
    "for i, shape in enumerate(shapes):\n",
    "  shape.plot(ax[i], full=True)\n",
    "plt.show()\n",
    "\n",
    "constraints = [\n",
    "  ConstraintsGroup([Constraint('n0 :- 1')]),\n",
    "  ConstraintsGroup([Constraint('n2 :- 1'), Constraint('2 :- n0 n1')])\n",
    "]"
   ]
  },
  {
   "cell_type": "markdown",
   "metadata": {},
   "source": [
    "### Define the neural network"
   ]
  },
  {
   "cell_type": "code",
   "execution_count": 3,
   "metadata": {},
   "outputs": [
    {
     "name": "stdout",
     "output_type": "stream",
     "text": [
      "NeuralNetwork(\n",
      "  (linear): Sequential(\n",
      "    (0): Linear(in_features=2, out_features=4, bias=True)\n",
      "    (1): Tanh()\n",
      "    (2): Linear(in_features=4, out_features=4, bias=True)\n",
      "    (3): Tanh()\n",
      "    (4): Linear(in_features=4, out_features=3, bias=True)\n",
      "    (5): Sigmoid()\n",
      "  )\n",
      ")\n"
     ]
    }
   ],
   "source": [
    "class NeuralNetwork(nn.Module):\n",
    "    def __init__(self):\n",
    "        super(NeuralNetwork, self).__init__()\n",
    "        self.linear = nn.Sequential(\n",
    "            nn.Linear(2, 4),\n",
    "            nn.Tanh(),\n",
    "            nn.Linear(4, 4),\n",
    "            nn.Tanh(),\n",
    "            nn.Linear(4, 3),\n",
    "            nn.Sigmoid()\n",
    "        )\n",
    "\n",
    "    def forward(self, x):\n",
    "        x = self.linear(x)\n",
    "        return x\n",
    "\n",
    "model = NeuralNetwork()\n",
    "print(model)"
   ]
  },
  {
   "cell_type": "markdown",
   "metadata": {},
   "source": [
    "### Train and test the model"
   ]
  },
  {
   "cell_type": "code",
   "execution_count": 4,
   "metadata": {},
   "outputs": [
    {
     "name": "stdout",
     "output_type": "stream",
     "text": [
      "Epoch 1\n",
      "-------------------------------\n",
      "loss: 0.868697 [    0/10000]\n",
      "loss: 0.362930 [ 6400/10000]\n",
      "Test Error: \n",
      " Accuracy: 92.4%, 88.5%, 90.5%\n",
      " Avg loss: 0.004612 \n",
      "\n",
      "Epoch 2\n",
      "-------------------------------\n",
      "loss: 0.333773 [    0/10000]\n",
      "loss: 0.246811 [ 6400/10000]\n",
      "Test Error: \n",
      " Accuracy: 93.1%, 88.5%, 92.2%\n",
      " Avg loss: 0.003719 \n",
      "\n",
      "Epoch 3\n",
      "-------------------------------\n",
      "loss: 0.262835 [    0/10000]\n",
      "loss: 0.209012 [ 6400/10000]\n",
      "Test Error: \n",
      " Accuracy: 92.9%, 88.5%, 91.6%\n",
      " Avg loss: 0.003384 \n",
      "\n",
      "Epoch 4\n",
      "-------------------------------\n",
      "loss: 0.249541 [    0/10000]\n",
      "loss: 0.197817 [ 6400/10000]\n",
      "Test Error: \n",
      " Accuracy: 93.0%, 88.5%, 91.7%\n",
      " Avg loss: 0.003277 \n",
      "\n",
      "Epoch 5\n",
      "-------------------------------\n",
      "loss: 0.243457 [    0/10000]\n",
      "loss: 0.189708 [ 6400/10000]\n",
      "Test Error: \n",
      " Accuracy: 92.5%, 88.5%, 92.2%\n",
      " Avg loss: 0.003173 \n",
      "\n",
      "Epoch 6\n",
      "-------------------------------\n",
      "loss: 0.230655 [    0/10000]\n",
      "loss: 0.177581 [ 6400/10000]\n",
      "Test Error: \n",
      " Accuracy: 92.6%, 88.5%, 92.5%\n",
      " Avg loss: 0.003031 \n",
      "\n",
      "Epoch 7\n",
      "-------------------------------\n",
      "loss: 0.212828 [    0/10000]\n",
      "loss: 0.157937 [ 6400/10000]\n",
      "Test Error: \n",
      " Accuracy: 92.7%, 87.4%, 94.1%\n",
      " Avg loss: 0.002806 \n",
      "\n",
      "Epoch 8\n",
      "-------------------------------\n",
      "loss: 0.196312 [    0/10000]\n",
      "loss: 0.144186 [ 6400/10000]\n",
      "Test Error: \n",
      " Accuracy: 94.5%, 89.9%, 94.6%\n",
      " Avg loss: 0.002574 \n",
      "\n",
      "Epoch 9\n",
      "-------------------------------\n",
      "loss: 0.190639 [    0/10000]\n",
      "loss: 0.123448 [ 6400/10000]\n",
      "Test Error: \n",
      " Accuracy: 97.3%, 93.9%, 95.4%\n",
      " Avg loss: 0.002020 \n",
      "\n",
      "Epoch 10\n",
      "-------------------------------\n",
      "loss: 0.157733 [    0/10000]\n",
      "loss: 0.073752 [ 6400/10000]\n",
      "Test Error: \n",
      " Accuracy: 99.0%, 97.5%, 98.3%\n",
      " Avg loss: 0.001279 \n",
      "\n",
      "Done!\n"
     ]
    },
    {
     "data": {
      "image/png": "[encoded data removed]",
      "text/plain": [
       "<Figure size 432x288 with 3 Axes>"
      ]
     },
     "metadata": {
      "needs_background": "light"
     },
     "output_type": "display_data"
    },
    {
     "data": {
      "image/png": "[encoded data removed]",
      "text/plain": [
       "<Figure size 432x288 with 3 Axes>"
      ]
     },
     "metadata": {
      "needs_background": "light"
     },
     "output_type": "display_data"
    }
   ],
   "source": [
    "experiment = Experiment('midcircle', model, shapes, constraints)\n",
    "experiment.run(500)\n",
    "experiment.save(dir='./models/')"
   ]
  },
  {
   "cell_type": "code",
   "execution_count": null,
   "metadata": {},
   "outputs": [],
   "source": []
  }
 ],
 "metadata": {
  "kernelspec": {
   "display_name": "Python 3",
   "language": "python",
   "name": "python3"
  },
  "language_info": {
   "codemirror_mode": {
    "name": "ipython",
    "version": 3
   },
   "file_extension": ".py",
   "mimetype": "text/x-python",
   "name": "python",
   "nbconvert_exporter": "python",
   "pygments_lexer": "ipython3",
   "version": "3.8.10"
  }
 },
 "nbformat": 4,
 "nbformat_minor": 2
}
