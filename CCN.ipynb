{
 "cells": [
  {
   "cell_type": "code",
   "execution_count": 1,
   "metadata": {},
   "outputs": [],
   "source": [
    "import torch\n",
    "import numpy as np\n",
    "from torch import nn\n",
    "from torch.utils.data import DataLoader, Dataset\n",
    "import matplotlib.pyplot as plt\n",
    "from matplotlib.patches import Rectangle as RectPatch\n",
    "\n",
    "from ccn import Constraint, ConstraintsGroup, ConstraintsLayer, train, test, draw_classes"
   ]
  },
  {
   "cell_type": "markdown",
   "metadata": {},
   "source": [
    "### Define the dataset"
   ]
  },
  {
   "cell_type": "code",
   "execution_count": 2,
   "metadata": {},
   "outputs": [
    {
     "data": {
      "image/png": "[encoded data removed]",
      "text/plain": [
       "<Figure size 432x288 with 1 Axes>"
      ]
     },
     "metadata": {
      "needs_background": "light"
     },
     "output_type": "display_data"
    }
   ],
   "source": [
    "class Rectangle:\n",
    "    def __init__(self, x0, x1, y0, y1):\n",
    "        self.lower = np.array([x0, y0])\n",
    "        self.higher = np.array([x1, y1])\n",
    "        \n",
    "    def inside(self, x, y):\n",
    "        point = np.array([x, y])\n",
    "        return ((self.lower <= point) * (point <= self.higher)).sum().item() == 2\n",
    "    \n",
    "    def plot(self, ax, edgecolor = 'blue'):\n",
    "        dim = self.higher - self.lower\n",
    "        ax.add_patch(RectPatch((self.lower[0], self.lower[1]), dim[0], dim[1], fill = False, edgecolor = edgecolor))\n",
    "    \n",
    "rect0 = Rectangle(0.1, 0.6, 0.1, 0.6)\n",
    "rect1 = Rectangle(0.4, 0.9, 0.4, 0.9)\n",
    "\n",
    "def draw_rectangles(ax, rect0, rect1):\n",
    "    plt.axis([0., 1., 0., 1.])\n",
    "    rect0.plot(ax, 'red')\n",
    "    rect1.plot(ax)\n",
    "\n",
    "fig, ax = plt.subplots()\n",
    "draw_rectangles(ax, rect0, rect1)\n",
    "plt.show()"
   ]
  },
  {
   "cell_type": "code",
   "execution_count": 3,
   "metadata": {},
   "outputs": [],
   "source": [
    "class RectanglesDataset(Dataset):\n",
    "    def __init__(self, count, r0, r1):\n",
    "        super(RectanglesDataset, self).__init__()\n",
    "        self.r0 = r0\n",
    "        self.r1 = r1\n",
    "\n",
    "        self.values = [torch.rand((2,)) for i in range(count)]\n",
    "        self.labels = [self.correct(x, y) for (x, y) in self.values]\n",
    "\n",
    "    def correct(self, x, y):\n",
    "        small = self.r0.inside(x, y)\n",
    "        big = small or self.r1.inside(x, y)\n",
    "        return torch.tensor([1. if v else 0. for v in [small, big]])\n",
    "\n",
    "    def __len__(self):\n",
    "        return len(self.values)  \n",
    "\n",
    "    def __getitem__(self, index):\n",
    "        return self.values[index], self.labels[index]"
   ]
  },
  {
   "cell_type": "code",
   "execution_count": 4,
   "metadata": {},
   "outputs": [],
   "source": [
    "points = 10000\n",
    "train_data = RectanglesDataset(points, rect0, rect1)\n",
    "test_data = RectanglesDataset(points // 10, rect0, rect1)\n",
    "\n",
    "train_dataloader = DataLoader(train_data, batch_size = 64)\n",
    "test_dataloader = DataLoader(test_data, batch_size = 64)"
   ]
  },
  {
   "cell_type": "markdown",
   "metadata": {},
   "source": [
    "### Define the neural network"
   ]
  },
  {
   "cell_type": "code",
   "execution_count": 5,
   "metadata": {},
   "outputs": [
    {
     "name": "stdout",
     "output_type": "stream",
     "text": [
      "NeuralNetwork(\n",
      "  (linear): Sequential(\n",
      "    (0): Linear(in_features=2, out_features=4, bias=True)\n",
      "    (1): Tanh()\n",
      "    (2): Linear(in_features=4, out_features=2, bias=True)\n",
      "    (3): Sigmoid()\n",
      "  )\n",
      ")\n"
     ]
    }
   ],
   "source": [
    "class NeuralNetwork(nn.Module):\n",
    "    def __init__(self):\n",
    "        super(NeuralNetwork, self).__init__()\n",
    "        self.linear = nn.Sequential(\n",
    "            nn.Linear(2, 4),\n",
    "            nn.Tanh(),\n",
    "            nn.Linear(4, 2),\n",
    "            nn.Sigmoid()\n",
    "        )\n",
    "\n",
    "    def forward(self, x):\n",
    "        x = self.linear(x)\n",
    "        return x\n",
    "\n",
    "model = NeuralNetwork()\n",
    "print(model)"
   ]
  },
  {
   "cell_type": "markdown",
   "metadata": {},
   "source": [
    "### Training and testing"
   ]
  },
  {
   "cell_type": "code",
   "execution_count": 6,
   "metadata": {},
   "outputs": [],
   "source": [
    "clayer = ConstraintsLayer(ConstraintsGroup([Constraint('1 :- 0')]), 2)\n",
    "loss_fn = nn.BCELoss()\n",
    "learning_rate = 1e-2\n",
    "optimizer = torch.optim.Adam(model.parameters(), lr = learning_rate, betas = (0.9, 0.999))"
   ]
  },
  {
   "cell_type": "code",
   "execution_count": 7,
   "metadata": {
    "scrolled": true
   },
   "outputs": [
    {
     "name": "stdout",
     "output_type": "stream",
     "text": [
      "Epoch 1\n",
      "-------------------------------\n",
      "loss: 0.654185 [    0/10000]\n",
      "loss: 0.645886 [ 6400/10000]\n",
      "Test Error: \n",
      " Accuracy: 72.2%, 50.4%%\n",
      " Avg loss: 0.009897 \n",
      "\n",
      "Epoch 2\n",
      "-------------------------------\n",
      "loss: 0.594786 [    0/10000]\n",
      "loss: 0.623583 [ 6400/10000]\n",
      "Test Error: \n",
      " Accuracy: 68.8%, 51.2%%\n",
      " Avg loss: 0.009591 \n",
      "\n",
      "Epoch 3\n",
      "-------------------------------\n",
      "loss: 0.542020 [    0/10000]\n",
      "loss: 0.620541 [ 6400/10000]\n",
      "Test Error: \n",
      " Accuracy: 68.8%, 54.8%%\n",
      " Avg loss: 0.009529 \n",
      "\n",
      "Epoch 4\n",
      "-------------------------------\n",
      "loss: 0.533905 [    0/10000]\n",
      "loss: 0.617031 [ 6400/10000]\n",
      "Test Error: \n",
      " Accuracy: 68.7%, 54.6%%\n",
      " Avg loss: 0.009472 \n",
      "\n",
      "Epoch 5\n",
      "-------------------------------\n",
      "loss: 0.528667 [    0/10000]\n",
      "loss: 0.612936 [ 6400/10000]\n",
      "Test Error: \n",
      " Accuracy: 69.1%, 54.7%%\n",
      " Avg loss: 0.009405 \n",
      "\n",
      "Epoch 6\n",
      "-------------------------------\n",
      "loss: 0.523590 [    0/10000]\n",
      "loss: 0.607491 [ 6400/10000]\n",
      "Test Error: \n",
      " Accuracy: 68.9%, 54.2%%\n",
      " Avg loss: 0.009324 \n",
      "\n",
      "Epoch 7\n",
      "-------------------------------\n",
      "loss: 0.518071 [    0/10000]\n",
      "loss: 0.600929 [ 6400/10000]\n",
      "Test Error: \n",
      " Accuracy: 68.8%, 54.3%%\n",
      " Avg loss: 0.009229 \n",
      "\n",
      "Epoch 8\n",
      "-------------------------------\n",
      "loss: 0.511856 [    0/10000]\n",
      "loss: 0.592239 [ 6400/10000]\n",
      "Test Error: \n",
      " Accuracy: 69.6%, 52.3%%\n",
      " Avg loss: 0.009086 \n",
      "\n",
      "Epoch 9\n",
      "-------------------------------\n",
      "loss: 0.503079 [    0/10000]\n",
      "loss: 0.569525 [ 6400/10000]\n",
      "Test Error: \n",
      " Accuracy: 73.3%, 58.2%%\n",
      " Avg loss: 0.008606 \n",
      "\n",
      "Epoch 10\n",
      "-------------------------------\n",
      "loss: 0.477377 [    0/10000]\n",
      "loss: 0.512375 [ 6400/10000]\n",
      "Test Error: \n",
      " Accuracy: 80.1%, 67.0%%\n",
      " Avg loss: 0.007681 \n",
      "\n",
      "Done!\n"
     ]
    }
   ],
   "source": [
    "epochs = 10\n",
    "for t in range(epochs):\n",
    "    print(f\"Epoch {t+1}\\n-------------------------------\")\n",
    "    train(train_dataloader, model, clayer, loss_fn, optimizer)\n",
    "    test(test_dataloader, model, clayer, loss_fn)\n",
    "print(\"Done!\")"
   ]
  },
  {
   "cell_type": "code",
   "execution_count": 8,
   "metadata": {},
   "outputs": [
    {
     "data": {
      "image/png": "[encoded data removed]",
      "text/plain": [
       "<Figure size 432x288 with 2 Axes>"
      ]
     },
     "metadata": {
      "needs_background": "light"
     },
     "output_type": "display_data"
    }
   ],
   "source": [
    "draw_classes(model, draw=(lambda ax, i: draw_rectangles(ax, rect0, rect1)))"
   ]
  },
  {
   "cell_type": "code",
   "execution_count": null,
   "metadata": {},
   "outputs": [],
   "source": []
  }
 ],
 "metadata": {
  "kernelspec": {
   "display_name": "Python 3",
   "language": "python",
   "name": "python3"
  },
  "language_info": {
   "codemirror_mode": {
    "name": "ipython",
    "version": 3
   },
   "file_extension": ".py",
   "mimetype": "text/x-python",
   "name": "python",
   "nbconvert_exporter": "python",
   "pygments_lexer": "ipython3",
   "version": "3.6.13"
  }
 },
 "nbformat": 4,
 "nbformat_minor": 2
}
