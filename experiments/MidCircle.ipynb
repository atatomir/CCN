{
 "cells": [
  {
   "cell_type": "code",
   "execution_count": 8,
   "metadata": {},
   "outputs": [
    {
     "name": "stdout",
     "output_type": "stream",
     "text": [
      "cuda\n"
     ]
    }
   ],
   "source": [
    "import torch\n",
    "from torch import nn\n",
    "import matplotlib.pyplot as plt\n",
    "\n",
    "from ccn import ClausesGroup, Clause\n",
    "from shapes import HalfPlane, Circle\n",
    "from experiment import Experiment\n",
    "import numpy as np\n",
    "\n",
    "device = torch.device('cuda' if torch.cuda.is_available() else 'cpu')\n",
    "print(device)"
   ]
  },
  {
   "cell_type": "markdown",
   "metadata": {},
   "source": [
    "### Define the shapes"
   ]
  },
  {
   "cell_type": "code",
   "execution_count": 9,
   "metadata": {},
   "outputs": [
    {
     "data": {
      "image/png": "[encoded data removed]",
      "text/plain": [
       "<Figure size 432x288 with 3 Axes>"
      ]
     },
     "metadata": {
      "needs_background": "light"
     },
     "output_type": "display_data"
    }
   ],
   "source": [
    "H0 = HalfPlane(1, 0, -0.6)\n",
    "H1 = HalfPlane(-1, 0, 0.4) \n",
    "C = Circle(0.5, 0.5, 0.20)\n",
    "shapes = [H0 & -C, C, H1 & -C]\n",
    "\n",
    "fig, ax = plt.subplots(1, len(shapes))\n",
    "for i, shape in enumerate(shapes):\n",
    "  shape.plot(ax[i], full=True)\n",
    "plt.show()\n",
    "\n",
    "\n",
    "clauses = ClausesGroup([Clause('n0 n1'), Clause('n1 n2'), Clause('0 1 2')])\n",
    "constraints1 = clauses.stratify('katz')\n",
    "constraints2 = clauses.stratify('rev-katz')"
   ]
  },
  {
   "cell_type": "code",
   "execution_count": 11,
   "metadata": {},
   "outputs": [
    {
     "name": "stdout",
     "output_type": "stream",
     "text": [
      "[ 92048  95889 100000]\n"
     ]
    }
   ],
   "source": [
    "model = torch.load('./models/midcircle-unconstained-6.4456e-05-1652226558.pth')\n",
    "init = torch.rand(100000, 2)\n",
    "preds = model(init).detach()\n",
    "coherency = clauses.coherent_with(preds)\n",
    "print(np.sum(coherency, axis=0))"
   ]
  },
  {
   "cell_type": "markdown",
   "metadata": {},
   "source": [
    "### Define the neural network"
   ]
  },
  {
   "cell_type": "code",
   "execution_count": 4,
   "metadata": {},
   "outputs": [
    {
     "name": "stdout",
     "output_type": "stream",
     "text": [
      "NeuralNetwork(\n",
      "  (linear): Sequential(\n",
      "    (0): Linear(in_features=2, out_features=4, bias=True)\n",
      "    (1): Tanh()\n",
      "    (2): Linear(in_features=4, out_features=3, bias=True)\n",
      "    (3): Sigmoid()\n",
      "  )\n",
      ")\n"
     ]
    }
   ],
   "source": [
    "class NeuralNetwork(nn.Module):\n",
    "    def __init__(self):\n",
    "        super(NeuralNetwork, self).__init__()\n",
    "        self.linear = nn.Sequential(\n",
    "            nn.Linear(2, 4),\n",
    "            nn.Tanh(),\n",
    "            nn.Linear(4, 3),\n",
    "            nn.Sigmoid()\n",
    "        )\n",
    "\n",
    "    def forward(self, x):\n",
    "        x = self.linear(x)\n",
    "        return x\n",
    "\n",
    "model = NeuralNetwork()\n",
    "print(model)"
   ]
  },
  {
   "cell_type": "markdown",
   "metadata": {},
   "source": [
    "### Train and test the model"
   ]
  },
  {
   "cell_type": "code",
   "execution_count": 6,
   "metadata": {},
   "outputs": [
    {
     "name": "stdout",
     "output_type": "stream",
     "text": [
      "Epoch 1, Ratio 1.0\n",
      "-----------------------\n",
      "Created slicer for 1 modules (atoms {0, 1, 2})\n",
      "loss: 0.764682 [    0/ 2500]\n",
      "Test Error: \n",
      " Accuracy: 49.0%, 87.8%, 48.3%\n",
      " Avg loss: 0.000278 \n",
      "\n",
      "Epoch 2, Ratio 1.0\n",
      "-----------------------\n",
      "Created slicer for 1 modules (atoms {0, 1, 2})\n",
      "loss: 0.756242 [    0/ 2500]\n",
      "Test Error: \n",
      " Accuracy: 49.0%, 87.8%, 48.3%\n",
      " Avg loss: 0.000276 \n",
      "\n",
      "Epoch 3, Ratio 1.0\n",
      "-----------------------\n",
      "Created slicer for 1 modules (atoms {0, 1, 2})\n",
      "loss: 0.748093 [    0/ 2500]\n",
      "Test Error: \n",
      " Accuracy: 49.0%, 87.8%, 48.3%\n",
      " Avg loss: 0.000274 \n",
      "\n",
      "Epoch 4, Ratio 1.0\n",
      "-----------------------\n",
      "Created slicer for 1 modules (atoms {0, 1, 2})\n",
      "loss: 0.740253 [    0/ 2500]\n",
      "Test Error: \n",
      " Accuracy: 49.0%, 87.8%, 48.3%\n",
      " Avg loss: 0.000272 \n",
      "\n",
      "Epoch 5, Ratio 1.0\n",
      "-----------------------\n",
      "Created slicer for 1 modules (atoms {0, 1, 2})\n",
      "loss: 0.732737 [    0/ 2500]\n",
      "Test Error: \n",
      " Accuracy: 49.0%, 87.8%, 48.3%\n",
      " Avg loss: 0.000270 \n",
      "\n",
      "Epoch 6, Ratio 1.0\n",
      "-----------------------\n",
      "Created slicer for 1 modules (atoms {0, 1, 2})\n",
      "loss: 0.725560 [    0/ 2500]\n",
      "Test Error: \n",
      " Accuracy: 49.0%, 87.8%, 48.3%\n",
      " Avg loss: 0.000269 \n",
      "\n",
      "Epoch 7, Ratio 1.0\n",
      "-----------------------\n",
      "Created slicer for 1 modules (atoms {0, 1, 2})\n",
      "loss: 0.718732 [    0/ 2500]\n",
      "Test Error: \n",
      " Accuracy: 49.0%, 87.8%, 48.3%\n",
      " Avg loss: 0.000267 \n",
      "\n",
      "Epoch 8, Ratio 1.0\n",
      "-----------------------\n",
      "Created slicer for 1 modules (atoms {0, 1, 2})\n",
      "loss: 0.712261 [    0/ 2500]\n",
      "Test Error: \n",
      " Accuracy: 49.0%, 87.8%, 48.3%\n",
      " Avg loss: 0.000266 \n",
      "\n",
      "Epoch 9, Ratio 1.0\n",
      "-----------------------\n",
      "Created slicer for 1 modules (atoms {0, 1, 2})\n",
      "loss: 0.706152 [    0/ 2500]\n",
      "Test Error: \n",
      " Accuracy: 49.0%, 87.8%, 48.3%\n",
      " Avg loss: 0.000265 \n",
      "\n",
      "Epoch 10, Ratio 1.0\n",
      "-----------------------\n",
      "Created slicer for 1 modules (atoms {0, 1, 2})\n",
      "loss: 0.700405 [    0/ 2500]\n",
      "Test Error: \n",
      " Accuracy: 49.0%, 87.8%, 48.3%\n",
      " Avg loss: 0.000264 \n",
      "\n",
      "Done!\n"
     ]
    }
   ],
   "source": [
    "experiment = Experiment('midcircle', model, shapes, constraints1)\n",
    "experiment.run(10, device='cpu')\n",
    "experiment.save(dir='./models/')"
   ]
  },
  {
   "cell_type": "code",
   "execution_count": null,
   "metadata": {},
   "outputs": [],
   "source": []
  }
 ],
 "metadata": {
  "interpreter": {
   "hash": "ec16a4d659f14a1b9693fdeec687e2573164f3801d1572af27cc2b00ae3d28b5"
  },
  "kernelspec": {
   "display_name": "Python 3.7.6 ('base')",
   "language": "python",
   "name": "python3"
  },
  "language_info": {
   "codemirror_mode": {
    "name": "ipython",
    "version": 3
   },
   "file_extension": ".py",
   "mimetype": "text/x-python",
   "name": "python",
   "nbconvert_exporter": "python",
   "pygments_lexer": "ipython3",
   "version": "3.7.6"
  }
 },
 "nbformat": 4,
 "nbformat_minor": 2
}
