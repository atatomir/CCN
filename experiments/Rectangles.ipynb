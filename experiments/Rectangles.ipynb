{
 "cells": [
  {
   "cell_type": "code",
   "execution_count": 1,
   "metadata": {},
   "outputs": [
    {
     "name": "stdout",
     "output_type": "stream",
     "text": [
      "cuda\n"
     ]
    }
   ],
   "source": [
    "import torch\n",
    "from torch import nn\n",
    "import matplotlib.pyplot as plt\n",
    "\n",
    "import context\n",
    "from ccn import Constraint, ConstraintsGroup\n",
    "from shapes import Rectangle\n",
    "from experiment import Experiment\n",
    "\n",
    "device = torch.device('cuda' if torch.cuda.is_available() else 'cpu')\n",
    "print(device)"
   ]
  },
  {
   "cell_type": "markdown",
   "metadata": {},
   "source": [
    "### Define the shapes"
   ]
  },
  {
   "cell_type": "code",
   "execution_count": 2,
   "metadata": {},
   "outputs": [
    {
     "data": {
      "image/png": "[encoded data removed]",
      "text/plain": [
       "<Figure size 432x288 with 2 Axes>"
      ]
     },
     "metadata": {
      "needs_background": "light"
     },
     "output_type": "display_data"
    }
   ],
   "source": [
    "rect0 = Rectangle(0.2, 0.6, 0.2, 0.6)\n",
    "rect1 = Rectangle(0.4, 0.9, 0.4, 0.9)\n",
    "combined = rect0 | rect1\n",
    "shapes = [rect0, combined]\n",
    "\n",
    "fig, ax = plt.subplots(1, len(shapes))\n",
    "for i, shape in enumerate(shapes):\n",
    "  shape.plot(ax[i], full=True)\n",
    "plt.show()\n",
    "\n",
    "constraints1 = [ConstraintsGroup([Constraint('1 :- 0')])]\n",
    "constraints2 = [ConstraintsGroup([Constraint('n0 :- n1')])]"
   ]
  },
  {
   "cell_type": "markdown",
   "metadata": {},
   "source": [
    "### Define the neural network"
   ]
  },
  {
   "cell_type": "code",
   "execution_count": 3,
   "metadata": {},
   "outputs": [
    {
     "name": "stdout",
     "output_type": "stream",
     "text": [
      "NeuralNetwork(\n",
      "  (linear): Sequential(\n",
      "    (0): Linear(in_features=2, out_features=4, bias=True)\n",
      "    (1): Tanh()\n",
      "    (2): Linear(in_features=4, out_features=2, bias=True)\n",
      "    (3): Sigmoid()\n",
      "  )\n",
      ")\n"
     ]
    }
   ],
   "source": [
    "class NeuralNetwork(nn.Module):\n",
    "    def __init__(self):\n",
    "        super(NeuralNetwork, self).__init__()\n",
    "        self.linear = nn.Sequential(\n",
    "            nn.Linear(2, 4),\n",
    "            nn.Tanh(),\n",
    "            nn.Linear(4, 2),\n",
    "            nn.Sigmoid()\n",
    "        )\n",
    "\n",
    "    def forward(self, x):\n",
    "        x = self.linear(x)\n",
    "        return x\n",
    "\n",
    "model1 = NeuralNetwork()\n",
    "model2 = NeuralNetwork()\n",
    "print(model1)"
   ]
  },
  {
   "cell_type": "markdown",
   "metadata": {},
   "source": [
    "### Train and test the model"
   ]
  },
  {
   "cell_type": "code",
   "execution_count": 4,
   "metadata": {},
   "outputs": [
    {
     "name": "stdout",
     "output_type": "stream",
     "text": [
      "Epoch 1\n",
      "-------------------------------\n",
      "loss: 0.643950 [    0/10000]\n",
      "loss: 0.573145 [ 6400/10000]\n",
      "Test Error: \n",
      " Accuracy: 84.0%, 61.8%\n",
      " Avg loss: 0.008500 \n",
      "\n",
      "Epoch 2\n",
      "-------------------------------\n",
      "loss: 0.492386 [    0/10000]\n",
      "loss: 0.557020 [ 6400/10000]\n",
      "Test Error: \n",
      " Accuracy: 84.0%, 58.4%\n",
      " Avg loss: 0.008386 \n",
      "\n",
      "Epoch 3\n",
      "-------------------------------\n",
      "loss: 0.494434 [    0/10000]\n",
      "loss: 0.545947 [ 6400/10000]\n",
      "Test Error: \n",
      " Accuracy: 84.0%, 62.9%\n",
      " Avg loss: 0.007984 \n",
      "\n",
      "Epoch 4\n",
      "-------------------------------\n",
      "loss: 0.479512 [    0/10000]\n",
      "loss: 0.520641 [ 6400/10000]\n",
      "Test Error: \n",
      " Accuracy: 84.0%, 68.6%\n",
      " Avg loss: 0.007461 \n",
      "\n",
      "Epoch 5\n",
      "-------------------------------\n",
      "loss: 0.451632 [    0/10000]\n",
      "loss: 0.478013 [ 6400/10000]\n",
      "Test Error: \n",
      " Accuracy: 84.0%, 78.3%\n",
      " Avg loss: 0.006577 \n",
      "\n",
      "Epoch 6\n",
      "-------------------------------\n",
      "loss: 0.392683 [    0/10000]\n",
      "loss: 0.406797 [ 6400/10000]\n",
      "Test Error: \n",
      " Accuracy: 90.3%, 86.5%\n",
      " Avg loss: 0.005375 \n",
      "\n",
      "Epoch 7\n",
      "-------------------------------\n",
      "loss: 0.314707 [    0/10000]\n",
      "loss: 0.345522 [ 6400/10000]\n",
      "Test Error: \n",
      " Accuracy: 95.1%, 87.1%\n",
      " Avg loss: 0.004410 \n",
      "\n",
      "Epoch 8\n",
      "-------------------------------\n",
      "loss: 0.255717 [    0/10000]\n",
      "loss: 0.304612 [ 6400/10000]\n",
      "Test Error: \n",
      " Accuracy: 95.8%, 87.9%\n",
      " Avg loss: 0.003805 \n",
      "\n",
      "Epoch 9\n",
      "-------------------------------\n",
      "loss: 0.217417 [    0/10000]\n",
      "loss: 0.280920 [ 6400/10000]\n",
      "Test Error: \n",
      " Accuracy: 96.2%, 87.9%\n",
      " Avg loss: 0.003445 \n",
      "\n",
      "Epoch 10\n",
      "-------------------------------\n",
      "loss: 0.193745 [    0/10000]\n",
      "loss: 0.267057 [ 6400/10000]\n",
      "Test Error: \n",
      " Accuracy: 96.4%, 88.0%\n",
      " Avg loss: 0.003219 \n",
      "\n",
      "Done!\n"
     ]
    },
    {
     "data": {
      "image/png": "[encoded data removed]",
      "text/plain": [
       "<Figure size 432x288 with 2 Axes>"
      ]
     },
     "metadata": {
      "needs_background": "light"
     },
     "output_type": "display_data"
    },
    {
     "data": {
      "image/png": "[encoded data removed]",
      "text/plain": [
       "<Figure size 432x288 with 2 Axes>"
      ]
     },
     "metadata": {
      "needs_background": "light"
     },
     "output_type": "display_data"
    }
   ],
   "source": [
    "experiment = Experiment('rectangles', model1, shapes, constraints1)\n",
    "experiment.run(10, device)\n",
    "#experiment.save(dir='./models/')"
   ]
  },
  {
   "cell_type": "code",
   "execution_count": 5,
   "metadata": {},
   "outputs": [
    {
     "name": "stdout",
     "output_type": "stream",
     "text": [
      "Epoch 1\n",
      "-------------------------------\n",
      "loss: 0.643570 [    0/10000]\n",
      "loss: 0.449863 [ 6400/10000]\n",
      "Test Error: \n",
      " Accuracy: 83.7%, 57.3%\n",
      " Avg loss: 0.008567 \n",
      "\n",
      "Epoch 2\n",
      "-------------------------------\n",
      "loss: 0.532982 [    0/10000]\n",
      "loss: 0.410065 [ 6400/10000]\n",
      "Test Error: \n",
      " Accuracy: 83.7%, 63.1%\n",
      " Avg loss: 0.007988 \n",
      "\n",
      "Epoch 3\n",
      "-------------------------------\n",
      "loss: 0.495365 [    0/10000]\n",
      "loss: 0.394622 [ 6400/10000]\n",
      "Test Error: \n",
      " Accuracy: 83.7%, 69.0%\n",
      " Avg loss: 0.007328 \n",
      "\n",
      "Epoch 4\n",
      "-------------------------------\n",
      "loss: 0.447848 [    0/10000]\n",
      "loss: 0.346395 [ 6400/10000]\n",
      "Test Error: \n",
      " Accuracy: 84.6%, 77.8%\n",
      " Avg loss: 0.006005 \n",
      "\n",
      "Epoch 5\n",
      "-------------------------------\n",
      "loss: 0.360058 [    0/10000]\n",
      "loss: 0.285429 [ 6400/10000]\n",
      "Test Error: \n",
      " Accuracy: 88.7%, 81.2%\n",
      " Avg loss: 0.005289 \n",
      "\n",
      "Epoch 6\n",
      "-------------------------------\n",
      "loss: 0.313948 [    0/10000]\n",
      "loss: 0.255177 [ 6400/10000]\n",
      "Test Error: \n",
      " Accuracy: 90.4%, 83.5%\n",
      " Avg loss: 0.004856 \n",
      "\n",
      "Epoch 7\n",
      "-------------------------------\n",
      "loss: 0.289770 [    0/10000]\n",
      "loss: 0.232032 [ 6400/10000]\n",
      "Test Error: \n",
      " Accuracy: 91.9%, 85.7%\n",
      " Avg loss: 0.004336 \n",
      "\n",
      "Epoch 8\n",
      "-------------------------------\n",
      "loss: 0.260990 [    0/10000]\n",
      "loss: 0.210174 [ 6400/10000]\n",
      "Test Error: \n",
      " Accuracy: 93.8%, 88.3%\n",
      " Avg loss: 0.003857 \n",
      "\n",
      "Epoch 9\n",
      "-------------------------------\n",
      "loss: 0.231481 [    0/10000]\n",
      "loss: 0.193588 [ 6400/10000]\n",
      "Test Error: \n",
      " Accuracy: 95.3%, 90.1%\n",
      " Avg loss: 0.003532 \n",
      "\n",
      "Epoch 10\n",
      "-------------------------------\n",
      "loss: 0.210695 [    0/10000]\n"
     ]
    }
   ],
   "source": [
    "experiment = Experiment('rectangles-rev', model2, shapes, constraints2)\n",
    "experiment.run(50, 'cpu')\n",
    "#experiment.save(dir='./models/')"
   ]
  },
  {
   "cell_type": "code",
   "execution_count": null,
   "metadata": {},
   "outputs": [],
   "source": []
  }
 ],
 "metadata": {
  "kernelspec": {
   "display_name": "Python 3",
   "language": "python",
   "name": "python3"
  },
  "language_info": {
   "codemirror_mode": {
    "name": "ipython",
    "version": 3
   },
   "file_extension": ".py",
   "mimetype": "text/x-python",
   "name": "python",
   "nbconvert_exporter": "python",
   "pygments_lexer": "ipython3",
   "version": "3.7.6"
  }
 },
 "nbformat": 4,
 "nbformat_minor": 2
}
