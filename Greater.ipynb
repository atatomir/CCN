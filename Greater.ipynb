{
 "cells": [
  {
   "cell_type": "code",
   "execution_count": 241,
   "metadata": {},
   "outputs": [],
   "source": [
    "import torch\n",
    "import numpy as np\n",
    "from torch import nn\n",
    "from torch.utils.data import DataLoader, Dataset\n",
    "import matplotlib.pyplot as plt"
   ]
  },
  {
   "cell_type": "code",
   "execution_count": 256,
   "metadata": {},
   "outputs": [],
   "source": [
    "class GreaterDataset(Dataset):\n",
    "  def __init__(self, count):\n",
    "    super(GreaterDataset, self).__init__()\n",
    "\n",
    "    self.values = [torch.rand((2,)) for i in range(count)]\n",
    "    self.labels = [torch.tensor([1.]) if x > y else torch.tensor([0.]) for (x, y) in self.values]\n",
    "\n",
    "  def __len__(self):\n",
    "    return len(self.values)  \n",
    "\n",
    "  def __getitem__(self, index):\n",
    "    return self.values[index], self.labels[index]"
   ]
  },
  {
   "cell_type": "code",
   "execution_count": 257,
   "metadata": {},
   "outputs": [],
   "source": [
    "points = 10000\n",
    "train_data = GreaterDataset(points)\n",
    "test_data = GreaterDataset(points)\n",
    "\n",
    "train_dataloader = DataLoader(train_data, batch_size = 16)\n",
    "test_dataloader = DataLoader(test_data, batch_size = 16)"
   ]
  },
  {
   "cell_type": "code",
   "execution_count": 279,
   "metadata": {},
   "outputs": [
    {
     "name": "stdout",
     "output_type": "stream",
     "text": [
      "NeuralNetwork(\n",
      "  (linear): Sequential(\n",
      "    (0): Linear(in_features=2, out_features=1, bias=True)\n",
      "    (1): Sigmoid()\n",
      "  )\n",
      ")\n"
     ]
    }
   ],
   "source": [
    "class NeuralNetwork(nn.Module):\n",
    "    def __init__(self):\n",
    "        super(NeuralNetwork, self).__init__()\n",
    "        self.linear = nn.Sequential(\n",
    "            nn.Linear(2, 1),\n",
    "            nn.Sigmoid()\n",
    "        )\n",
    "\n",
    "    def forward(self, x):\n",
    "        x = self.linear(x)\n",
    "        return x\n",
    "\n",
    "model = NeuralNetwork()\n",
    "print(model)"
   ]
  },
  {
   "cell_type": "code",
   "execution_count": 280,
   "metadata": {},
   "outputs": [],
   "source": [
    "loss_fn = nn.BCELoss()\n",
    "learning_rate = 1e-3\n",
    "optimizer = torch.optim.SGD(model.parameters(), lr = learning_rate)"
   ]
  },
  {
   "cell_type": "code",
   "execution_count": 281,
   "metadata": {},
   "outputs": [],
   "source": [
    "def train(dataloader, model, loss_fn, optimizer):\n",
    "    size = len(dataloader.dataset)\n",
    "    for batch, (X, y) in enumerate(dataloader):        \n",
    "        # Compute prediction error\n",
    "        pred = model(X)\n",
    "        loss = loss_fn(pred, y)\n",
    "        \n",
    "        # Backpropagation\n",
    "        optimizer.zero_grad()\n",
    "        loss.backward()\n",
    "        optimizer.step()\n",
    "\n",
    "        if batch % 100 == 0:\n",
    "            loss, current = loss.item(), batch * len(X)\n",
    "            print(f\"loss: {loss:>7f}  [{current:>5d}/{size:>5d}]\")"
   ]
  },
  {
   "cell_type": "code",
   "execution_count": 310,
   "metadata": {},
   "outputs": [],
   "source": [
    "def test(dataloader, model):\n",
    "    size = len(dataloader.dataset)\n",
    "    model.eval()\n",
    "    test_loss, correct = 0, 0\n",
    "    with torch.no_grad():\n",
    "        for X, y in dataloader:\n",
    "            pred = model(X)\n",
    "            test_loss += loss_fn(pred, y).item()\n",
    "            correct += (torch.where(pred > 0.5, 1., 0.) == y).sum().item()\n",
    "    test_loss /= size\n",
    "    correct /= size\n",
    "    print(f\"Test Error: \\n Accuracy: {(100*correct):>0.1f}%, Avg loss: {test_loss:>8f} \\n\")"
   ]
  },
  {
   "cell_type": "code",
   "execution_count": 311,
   "metadata": {
    "scrolled": true
   },
   "outputs": [
    {
     "name": "stdout",
     "output_type": "stream",
     "text": [
      "Epoch 1\n",
      "-------------------------------\n",
      "loss: 0.211591  [    0/10000]\n",
      "loss: 0.256141  [ 1600/10000]\n",
      "loss: 0.243782  [ 3200/10000]\n",
      "loss: 0.246749  [ 4800/10000]\n",
      "loss: 0.298765  [ 6400/10000]\n",
      "loss: 0.321668  [ 8000/10000]\n",
      "loss: 0.260693  [ 9600/10000]\n",
      "Test Error: \n",
      " Accuracy: 99.1%, Avg loss: 0.016929 \n",
      "\n",
      "Epoch 2\n",
      "-------------------------------\n",
      "loss: 0.211099  [    0/10000]\n",
      "loss: 0.255562  [ 1600/10000]\n",
      "loss: 0.243202  [ 3200/10000]\n",
      "loss: 0.246195  [ 4800/10000]\n",
      "loss: 0.298206  [ 6400/10000]\n",
      "loss: 0.321118  [ 8000/10000]\n",
      "loss: 0.260243  [ 9600/10000]\n",
      "Test Error: \n",
      " Accuracy: 99.1%, Avg loss: 0.016895 \n",
      "\n",
      "Epoch 3\n",
      "-------------------------------\n",
      "loss: 0.210612  [    0/10000]\n",
      "loss: 0.254986  [ 1600/10000]\n",
      "loss: 0.242626  [ 3200/10000]\n",
      "loss: 0.245645  [ 4800/10000]\n",
      "loss: 0.297651  [ 6400/10000]\n",
      "loss: 0.320572  [ 8000/10000]\n",
      "loss: 0.259797  [ 9600/10000]\n",
      "Test Error: \n",
      " Accuracy: 99.1%, Avg loss: 0.016861 \n",
      "\n",
      "Epoch 4\n",
      "-------------------------------\n",
      "loss: 0.210128  [    0/10000]\n",
      "loss: 0.254416  [ 1600/10000]\n",
      "loss: 0.242053  [ 3200/10000]\n",
      "loss: 0.245099  [ 4800/10000]\n",
      "loss: 0.297099  [ 6400/10000]\n",
      "loss: 0.320030  [ 8000/10000]\n",
      "loss: 0.259355  [ 9600/10000]\n",
      "Test Error: \n",
      " Accuracy: 99.1%, Avg loss: 0.016827 \n",
      "\n",
      "Epoch 5\n",
      "-------------------------------\n",
      "loss: 0.209648  [    0/10000]\n",
      "loss: 0.253849  [ 1600/10000]\n",
      "loss: 0.241486  [ 3200/10000]\n",
      "loss: 0.244557  [ 4800/10000]\n",
      "loss: 0.296551  [ 6400/10000]\n",
      "loss: 0.319491  [ 8000/10000]\n",
      "loss: 0.258915  [ 9600/10000]\n",
      "Test Error: \n",
      " Accuracy: 99.1%, Avg loss: 0.016793 \n",
      "\n",
      "Epoch 6\n",
      "-------------------------------\n",
      "loss: 0.209172  [    0/10000]\n",
      "loss: 0.253286  [ 1600/10000]\n",
      "loss: 0.240922  [ 3200/10000]\n",
      "loss: 0.244019  [ 4800/10000]\n",
      "loss: 0.296006  [ 6400/10000]\n",
      "loss: 0.318956  [ 8000/10000]\n",
      "loss: 0.258480  [ 9600/10000]\n",
      "Test Error: \n",
      " Accuracy: 99.2%, Avg loss: 0.016760 \n",
      "\n",
      "Epoch 7\n",
      "-------------------------------\n",
      "loss: 0.208700  [    0/10000]\n",
      "loss: 0.252728  [ 1600/10000]\n",
      "loss: 0.240362  [ 3200/10000]\n",
      "loss: 0.243485  [ 4800/10000]\n",
      "loss: 0.295465  [ 6400/10000]\n",
      "loss: 0.318424  [ 8000/10000]\n",
      "loss: 0.258047  [ 9600/10000]\n",
      "Test Error: \n",
      " Accuracy: 99.2%, Avg loss: 0.016727 \n",
      "\n",
      "Epoch 8\n",
      "-------------------------------\n",
      "loss: 0.208231  [    0/10000]\n",
      "loss: 0.252173  [ 1600/10000]\n",
      "loss: 0.239806  [ 3200/10000]\n",
      "loss: 0.242954  [ 4800/10000]\n",
      "loss: 0.294928  [ 6400/10000]\n",
      "loss: 0.317895  [ 8000/10000]\n",
      "loss: 0.257618  [ 9600/10000]\n",
      "Test Error: \n",
      " Accuracy: 99.2%, Avg loss: 0.016694 \n",
      "\n",
      "Epoch 9\n",
      "-------------------------------\n",
      "loss: 0.207767  [    0/10000]\n",
      "loss: 0.251623  [ 1600/10000]\n",
      "loss: 0.239253  [ 3200/10000]\n",
      "loss: 0.242427  [ 4800/10000]\n",
      "loss: 0.294395  [ 6400/10000]\n",
      "loss: 0.317370  [ 8000/10000]\n",
      "loss: 0.257192  [ 9600/10000]\n",
      "Test Error: \n",
      " Accuracy: 99.2%, Avg loss: 0.016661 \n",
      "\n",
      "Epoch 10\n",
      "-------------------------------\n",
      "loss: 0.207305  [    0/10000]\n",
      "loss: 0.251076  [ 1600/10000]\n",
      "loss: 0.238705  [ 3200/10000]\n",
      "loss: 0.241903  [ 4800/10000]\n",
      "loss: 0.293865  [ 6400/10000]\n",
      "loss: 0.316849  [ 8000/10000]\n",
      "loss: 0.256769  [ 9600/10000]\n",
      "Test Error: \n",
      " Accuracy: 99.2%, Avg loss: 0.016629 \n",
      "\n",
      "Done!\n"
     ]
    }
   ],
   "source": [
    "epochs = 10\n",
    "for t in range(epochs):\n",
    "    print(f\"Epoch {t+1}\\n-------------------------------\")\n",
    "    train(train_dataloader, model, loss_fn, optimizer)\n",
    "    test(test_dataloader, model)\n",
    "print(\"Done!\")"
   ]
  },
  {
   "cell_type": "code",
   "execution_count": 308,
   "metadata": {},
   "outputs": [
    {
     "data": {
      "text/plain": [
       "tensor([0.5008], grad_fn=<SigmoidBackward0>)"
      ]
     },
     "execution_count": 308,
     "metadata": {},
     "output_type": "execute_result"
    }
   ],
   "source": [
    "model(torch.tensor([0.911, 0.9]))"
   ]
  },
  {
   "cell_type": "code",
   "execution_count": 306,
   "metadata": {},
   "outputs": [
    {
     "data": {
      "text/plain": [
       "OrderedDict([('linear.0.weight', tensor([[ 4.4675, -4.4877]])),\n",
       "             ('linear.0.bias', tensor([-0.0309]))])"
      ]
     },
     "execution_count": 306,
     "metadata": {},
     "output_type": "execute_result"
    }
   ],
   "source": [
    "model.state_dict()"
   ]
  },
  {
   "cell_type": "code",
   "execution_count": 313,
   "metadata": {},
   "outputs": [
    {
     "data": {
      "text/plain": [
       "tensor(2)"
      ]
     },
     "execution_count": 313,
     "metadata": {},
     "output_type": "execute_result"
    }
   ],
   "source": []
  },
  {
   "cell_type": "code",
   "execution_count": null,
   "metadata": {},
   "outputs": [],
   "source": []
  }
 ],
 "metadata": {
  "kernelspec": {
   "display_name": "Python 3",
   "language": "python",
   "name": "python3"
  },
  "language_info": {
   "codemirror_mode": {
    "name": "ipython",
    "version": 3
   },
   "file_extension": ".py",
   "mimetype": "text/x-python",
   "name": "python",
   "nbconvert_exporter": "python",
   "pygments_lexer": "ipython3",
   "version": "3.6.13"
  }
 },
 "nbformat": 4,
 "nbformat_minor": 2
}
